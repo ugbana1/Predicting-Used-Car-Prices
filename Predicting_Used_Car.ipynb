{
  "nbformat": 4,
  "nbformat_minor": 0,
  "metadata": {
    "colab": {
      "provenance": [],
      "authorship_tag": "ABX9TyP50xrviJvqOBFLxkZEJB+5",
      "include_colab_link": true
    },
    "kernelspec": {
      "name": "python3",
      "display_name": "Python 3"
    },
    "language_info": {
      "name": "python"
    }
  },
  "cells": [
    {
      "cell_type": "markdown",
      "metadata": {
        "id": "view-in-github",
        "colab_type": "text"
      },
      "source": [
        "<a href=\"https://colab.research.google.com/github/ugbana1/Predicting-Used-Car-Prices/blob/main/Predicting_Used_Car.ipynb\" target=\"_parent\"><img src=\"https://colab.research.google.com/assets/colab-badge.svg\" alt=\"Open In Colab\"/></a>"
      ]
    },
    {
      "cell_type": "code",
      "execution_count": null,
      "metadata": {
        "id": "iQPQh78YwQY8"
      },
      "outputs": [],
      "source": [
        "import tensorflow as tf # for models\n",
        "import pandas as pd #for data preprocessing\n",
        "import seaborn as sbn # for visualization"
      ]
    }
  ]
}